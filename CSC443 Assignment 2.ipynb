{
 "cells": [
  {
   "cell_type": "markdown",
   "metadata": {
    "collapsed": true
   },
   "source": [
    "# 2.3. Experiments\n",
    "\n",
    "Assuming one table schema, 100 attributes, and each attribute being 10 bytes each, we have met the criteria for a fixed length record data scheme. Based on this data we know each record will be 1000 bytes to serialize.\n",
    "\n",
    "A record in our sense (defined with `std::vector<V> Record`) is an array of strings. In our experiment (which can be viewed in experiment_fixed_len_sizeof.cc) we initialize a Record of 100 strings:\n",
    "\n",
    "```c\n",
    "Record record = {\n",
    "    \"SQHVXJTXOK\",\n",
    "    \"NABHDFBCWB\",\n",
    "    \"XAWTEBKZWL\",\n",
    "    \"OBPQAPWYKC\",\n",
    "    \"RJESFTAEUK\",\n",
    "    \"NSCLEQRJVJ\",\n",
    "    \"RAYZKLAIEN\",\n",
    "    \"SHVLBDTEHU\",\n",
    "    ...,\n",
    "}\n",
    "```\n",
    "\n",
    "Once complete, we run `fixed_len_sizeof(&record)` which calculates the amount of bytes it takes to serialize this record.\n",
    "\n",
    "```bash\n",
    "bash-3.2$ ./experiment_fixed_len_sizeof\n",
    "1000\n",
    "```"
   ]
  }
 ],
 "metadata": {
  "kernelspec": {
   "display_name": "Python 3",
   "language": "python",
   "name": "python3"
  },
  "language_info": {
   "codemirror_mode": {
    "name": "ipython",
    "version": 3
   },
   "file_extension": ".py",
   "mimetype": "text/x-python",
   "name": "python",
   "nbconvert_exporter": "python",
   "pygments_lexer": "ipython3",
   "version": "3.5.1"
  }
 },
 "nbformat": 4,
 "nbformat_minor": 1
}
