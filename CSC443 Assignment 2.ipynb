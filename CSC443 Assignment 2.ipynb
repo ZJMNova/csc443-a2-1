{
 "cells": [
  {
   "cell_type": "markdown",
   "metadata": {
    "collapsed": true
   },
   "source": [
    "# 2.3. Experiments\n",
    "\n",
    "Assuming one table schema, 100 attributes, and each attribute being 10 bytes each, we have met the criteria for a fixed length record data scheme. Based on this data we know each record will be 1000 bytes to serialize.\n",
    "\n",
    "A record in our sense (defined with `std::vector<V> Record`) is an array of strings. In our experiment (which can be viewed in experiment_fixed_len_sizeof.cc) we initialize a Record of 100 strings:\n",
    "\n",
    "```c\n",
    "Record record = {\n",
    "    \"SQHVXJTXOK\",\n",
    "    \"NABHDFBCWB\",\n",
    "    \"XAWTEBKZWL\",\n",
    "    \"OBPQAPWYKC\",\n",
    "    \"RJESFTAEUK\",\n",
    "    \"NSCLEQRJVJ\",\n",
    "    \"RAYZKLAIEN\",\n",
    "    \"SHVLBDTEHU\",\n",
    "    ...,\n",
    "}\n",
    "```\n",
    "\n",
    "Once complete, we run `fixed_len_sizeof(&record)` which calculates the amount of bytes it takes to serialize this record.\n",
    "\n",
    "```bash\n",
    "bash-3.2$ ./experiment_fixed_len_sizeof\n",
    "1000\n",
    "```"
   ]
  },
  {
   "cell_type": "code",
   "execution_count": 2,
   "metadata": {
    "collapsed": false
   },
   "outputs": [
    {
     "ename": "FileNotFoundError",
     "evalue": "[Errno 2] No such file or directory: './results_write.csv'",
     "output_type": "error",
     "traceback": [
      "\u001b[0;31m--------------------------------------------------------------------\u001b[0m",
      "\u001b[0;31mFileNotFoundError\u001b[0m                  Traceback (most recent call last)",
      "\u001b[0;32m<ipython-input-2-9195ae3200ad>\u001b[0m in \u001b[0;36m<module>\u001b[0;34m()\u001b[0m\n\u001b[1;32m     24\u001b[0m     ])\n\u001b[1;32m     25\u001b[0m \u001b[0;34m\u001b[0m\u001b[0m\n\u001b[0;32m---> 26\u001b[0;31m \u001b[0;32mwith\u001b[0m \u001b[0mopen\u001b[0m\u001b[0;34m(\u001b[0m\u001b[0;34m'./results_write.csv'\u001b[0m\u001b[0;34m)\u001b[0m \u001b[0;32mas\u001b[0m \u001b[0mcsvfile\u001b[0m\u001b[0;34m:\u001b[0m\u001b[0;34m\u001b[0m\u001b[0m\n\u001b[0m\u001b[1;32m     27\u001b[0m     \u001b[0mx\u001b[0m\u001b[0;34m,\u001b[0m \u001b[0my\u001b[0m\u001b[0;34m,\u001b[0m \u001b[0mrates\u001b[0m \u001b[0;34m=\u001b[0m \u001b[0mget_data\u001b[0m\u001b[0;34m(\u001b[0m\u001b[0mcsvfile\u001b[0m\u001b[0;34m)\u001b[0m\u001b[0;34m\u001b[0m\u001b[0m\n\u001b[1;32m     28\u001b[0m \u001b[0;34m\u001b[0m\u001b[0m\n",
      "\u001b[0;31mFileNotFoundError\u001b[0m: [Errno 2] No such file or directory: './results_write.csv'"
     ]
    }
   ],
   "source": [
    "%matplotlib inline\n",
    "\n",
    "import csv\n",
    "import numpy as np\n",
    "import matplotlib.pyplot as plt\n",
    "from matplotlib import figure\n",
    "\n",
    "def get_data(csvfile):\n",
    "    reader = csv.DictReader(csvfile)\n",
    "    return zip(*[\n",
    "        (\n",
    "            row['page_size'], \n",
    "            row['milliseconds_elapsed'],\n",
    "            # calculate data rate: mebibytes / second\n",
    "            (\n",
    "                # convert bytes -> mebibytes\n",
    "                (int(row['page_size']) / 2 ** 20)\n",
    "                /\n",
    "                # convert milliseconds -> seconds\n",
    "                (int(row['milliseconds_elapsed']) / 1000)\n",
    "            )\n",
    "        )\n",
    "        for row in reader\n",
    "    ])\n",
    "\n",
    "with open('./results_write.csv') as csvfile:\n",
    "    x, y, rates = get_data(csvfile)\n",
    "    \n",
    "    plt.title(\n",
    "        'Performance of write_fixed_len_pages ' +\n",
    "        'with different page_sizes'\n",
    "    )\n",
    "    plt.xlabel('Page Size (Bytes)')\n",
    "    plt.ylabel('Seconds')\n",
    "    plt.xscale('log')\n",
    "    plt.plot(x, rates, 'bo')\n",
    "    \n",
    "    plt.show()"
   ]
  },
  {
   "cell_type": "code",
   "execution_count": null,
   "metadata": {
    "collapsed": true
   },
   "outputs": [],
   "source": []
  }
 ],
 "metadata": {
  "kernelspec": {
   "display_name": "Python 3",
   "language": "python",
   "name": "python3"
  },
  "language_info": {
   "codemirror_mode": {
    "name": "ipython",
    "version": 3
   },
   "file_extension": ".py",
   "mimetype": "text/x-python",
   "name": "python",
   "nbconvert_exporter": "python",
   "pygments_lexer": "ipython3",
   "version": "3.5.1"
  }
 },
 "nbformat": 4,
 "nbformat_minor": 1
}
